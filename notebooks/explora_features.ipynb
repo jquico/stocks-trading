{
 "cells": [
  {
   "cell_type": "code",
   "execution_count": null,
   "metadata": {
    "vscode": {
     "languageId": "plaintext"
    }
   },
   "outputs": [],
   "source": [
    "import pandas as pd\n",
    "import matplotlib.pyplot as plt\n",
    "from data.downloader import download_data\n",
    "from indicators.advanced_indicators import calculate_bollinger_bands\n",
    "\n",
    "# Baixar os dados\n",
    "df = download_data('AAPL', start_date='2020-01-01', end_date='2025-01-01')\n",
    "\n",
    "# Calcular os Bollinger Bands\n",
    "df = calculate_bollinger_bands(df)\n",
    "\n",
    "# Visualizar o preço e as Bandas de Bollinger\n",
    "plt.figure(figsize=(12, 6))\n",
    "plt.plot(df['Close'], label='Preço de Fechamento')\n",
    "plt.plot(df['Bollinger_upper'], label='Banda Superior', linestyle='--')\n",
    "plt.plot(df['Bollinger_middle'], label='Banda Média', linestyle='--')\n",
    "plt.plot(df['Bollinger_lower'], label='Banda Inferior', linestyle='--')\n",
    "plt.legend()\n",
    "plt.title('Preço de Fechamento e Bandas de Bollinger para AAPL')\n",
    "plt.show()\n"
   ]
  }
 ],
 "metadata": {
  "language_info": {
   "name": "python"
  }
 },
 "nbformat": 4,
 "nbformat_minor": 5
}
